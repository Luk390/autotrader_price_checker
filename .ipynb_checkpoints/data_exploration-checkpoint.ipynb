{
 "cells": [
  {
   "cell_type": "markdown",
   "metadata": {},
   "source": [
    "For myself\n",
    "\n",
    "* Work out how to properly do onehotencoding. Is it possible to fall into the trap zedstatistics mentioned?\n",
    "\n",
    "* Do I need to change doors and seets to ordinal data??\n",
    "* Do I need to change year into categorical/ordinal??\n",
    "\n",
    "* there are a lot of categorical variables in model and trim - \n",
    "    * Do these dummy variable encoding? \n",
    "    * Should I drop them?\n",
    "        * Yes they need dummy encoding. However, let's do that after the EDA\n",
    "\n",
    "* Things to do\n",
    "    * Check normality of dependent variable\n",
    "    * Check for cutoffs in scatter plots of independent variable\n",
    "    * Note any extreme values - May need removing from dataset\n",
    "    * Use stats models to do a simple linear regression and explain the output\n",
    "\n",
    "* Visuals\n",
    "    * Histogram of price - Doesn't need transforming straight away I don't think\n",
    "    * heatmap of correlations - Maybe half numbers, half colours?\n",
    "    * Check for multi-collinearity here - watch zedstats videos again?\n",
    "    * box plot the categorical variables?"
   ]
  },
  {
   "cell_type": "code",
   "execution_count": 1,
   "metadata": {},
   "outputs": [],
   "source": [
    "import pandas as pd\n",
    "import numpy as np\n",
    "import matplotlib.pyplot as plt\n",
    "import seaborn as sns\n",
    "%matplotlib inline"
   ]
  },
  {
   "cell_type": "code",
   "execution_count": 2,
   "metadata": {},
   "outputs": [],
   "source": [
    "df = pd.read_csv('data.csv', index_col=0)"
   ]
  },
  {
   "cell_type": "code",
   "execution_count": 3,
   "metadata": {},
   "outputs": [],
   "source": [
    "for column in ['body_type', 'condition', 'doors', 'isTradeSeller', 'make', 'model', 'transmission', 'location']:\n",
    "    df[column] = df[column].astype('category')\n",
    "    \n",
    "for column in ['co2Emissions', 'manufactured_year', 'mileage', 'seats']:\n",
    "    df[column] = df[column].astype('int64', copy=False)\n",
    "\n",
    "df.engine_size = df.engine_size.astype('float64')"
   ]
  },
  {
   "cell_type": "code",
   "execution_count": 4,
   "metadata": {},
   "outputs": [
    {
     "data": {
      "text/html": [
       "<div>\n",
       "<style scoped>\n",
       "    .dataframe tbody tr th:only-of-type {\n",
       "        vertical-align: middle;\n",
       "    }\n",
       "\n",
       "    .dataframe tbody tr th {\n",
       "        vertical-align: top;\n",
       "    }\n",
       "\n",
       "    .dataframe thead th {\n",
       "        text-align: right;\n",
       "    }\n",
       "</style>\n",
       "<table border=\"1\" class=\"dataframe\">\n",
       "  <thead>\n",
       "    <tr style=\"text-align: right;\">\n",
       "      <th></th>\n",
       "      <th>body_type</th>\n",
       "      <th>co2Emissions</th>\n",
       "      <th>condition</th>\n",
       "      <th>doors</th>\n",
       "      <th>engine_size</th>\n",
       "      <th>isTradeSeller</th>\n",
       "      <th>make</th>\n",
       "      <th>manufactured_year</th>\n",
       "      <th>mileage</th>\n",
       "      <th>model</th>\n",
       "      <th>price</th>\n",
       "      <th>seats</th>\n",
       "      <th>transmission</th>\n",
       "      <th>location</th>\n",
       "    </tr>\n",
       "  </thead>\n",
       "  <tbody>\n",
       "    <tr>\n",
       "      <th>0</th>\n",
       "      <td>Hatchback</td>\n",
       "      <td>101</td>\n",
       "      <td>Used</td>\n",
       "      <td>5</td>\n",
       "      <td>1.1</td>\n",
       "      <td>True</td>\n",
       "      <td>Ford</td>\n",
       "      <td>2018</td>\n",
       "      <td>21400</td>\n",
       "      <td>Fiesta</td>\n",
       "      <td>9300.0</td>\n",
       "      <td>5</td>\n",
       "      <td>Manual</td>\n",
       "      <td>Bristol</td>\n",
       "    </tr>\n",
       "    <tr>\n",
       "      <th>1</th>\n",
       "      <td>Coupe</td>\n",
       "      <td>163</td>\n",
       "      <td>Used</td>\n",
       "      <td>2</td>\n",
       "      <td>3.0</td>\n",
       "      <td>True</td>\n",
       "      <td>BMW</td>\n",
       "      <td>2018</td>\n",
       "      <td>28261</td>\n",
       "      <td>2 Series</td>\n",
       "      <td>21745.0</td>\n",
       "      <td>4</td>\n",
       "      <td>Automatic</td>\n",
       "      <td>Bristol</td>\n",
       "    </tr>\n",
       "    <tr>\n",
       "      <th>2</th>\n",
       "      <td>Hatchback</td>\n",
       "      <td>105</td>\n",
       "      <td>Used</td>\n",
       "      <td>5</td>\n",
       "      <td>0.9</td>\n",
       "      <td>False</td>\n",
       "      <td>Renault</td>\n",
       "      <td>2018</td>\n",
       "      <td>19981</td>\n",
       "      <td>Clio</td>\n",
       "      <td>8455.0</td>\n",
       "      <td>5</td>\n",
       "      <td>Manual</td>\n",
       "      <td>Bristol</td>\n",
       "    </tr>\n",
       "    <tr>\n",
       "      <th>3</th>\n",
       "      <td>SUV</td>\n",
       "      <td>161</td>\n",
       "      <td>Used</td>\n",
       "      <td>5</td>\n",
       "      <td>2.0</td>\n",
       "      <td>True</td>\n",
       "      <td>Alfa Romeo</td>\n",
       "      <td>2018</td>\n",
       "      <td>11204</td>\n",
       "      <td>Stelvio</td>\n",
       "      <td>27990.0</td>\n",
       "      <td>5</td>\n",
       "      <td>Automatic</td>\n",
       "      <td>Bristol</td>\n",
       "    </tr>\n",
       "    <tr>\n",
       "      <th>4</th>\n",
       "      <td>Hatchback</td>\n",
       "      <td>93</td>\n",
       "      <td>Used</td>\n",
       "      <td>5</td>\n",
       "      <td>1.0</td>\n",
       "      <td>True</td>\n",
       "      <td>Citroen</td>\n",
       "      <td>2018</td>\n",
       "      <td>13450</td>\n",
       "      <td>C1</td>\n",
       "      <td>7500.0</td>\n",
       "      <td>4</td>\n",
       "      <td>Manual</td>\n",
       "      <td>Bristol</td>\n",
       "    </tr>\n",
       "  </tbody>\n",
       "</table>\n",
       "</div>"
      ],
      "text/plain": [
       "   body_type  co2Emissions condition doors  engine_size isTradeSeller  \\\n",
       "0  Hatchback           101      Used     5          1.1          True   \n",
       "1      Coupe           163      Used     2          3.0          True   \n",
       "2  Hatchback           105      Used     5          0.9         False   \n",
       "3        SUV           161      Used     5          2.0          True   \n",
       "4  Hatchback            93      Used     5          1.0          True   \n",
       "\n",
       "         make  manufactured_year  mileage     model    price  seats  \\\n",
       "0        Ford               2018    21400    Fiesta   9300.0      5   \n",
       "1         BMW               2018    28261  2 Series  21745.0      4   \n",
       "2     Renault               2018    19981      Clio   8455.0      5   \n",
       "3  Alfa Romeo               2018    11204   Stelvio  27990.0      5   \n",
       "4     Citroen               2018    13450        C1   7500.0      4   \n",
       "\n",
       "  transmission location  \n",
       "0       Manual  Bristol  \n",
       "1    Automatic  Bristol  \n",
       "2       Manual  Bristol  \n",
       "3    Automatic  Bristol  \n",
       "4       Manual  Bristol  "
      ]
     },
     "execution_count": 4,
     "metadata": {},
     "output_type": "execute_result"
    }
   ],
   "source": [
    "df.head()"
   ]
  },
  {
   "cell_type": "code",
   "execution_count": 5,
   "metadata": {},
   "outputs": [
    {
     "name": "stdout",
     "output_type": "stream",
     "text": [
      "<class 'pandas.core.frame.DataFrame'>\n",
      "Int64Index: 5525 entries, 0 to 5850\n",
      "Data columns (total 14 columns):\n",
      "body_type            5525 non-null category\n",
      "co2Emissions         5525 non-null int64\n",
      "condition            5525 non-null category\n",
      "doors                5525 non-null category\n",
      "engine_size          5525 non-null float64\n",
      "isTradeSeller        5525 non-null category\n",
      "make                 5525 non-null category\n",
      "manufactured_year    5525 non-null int64\n",
      "mileage              5525 non-null int64\n",
      "model                5525 non-null category\n",
      "price                5525 non-null float64\n",
      "seats                5525 non-null int64\n",
      "transmission         5525 non-null category\n",
      "location             5525 non-null category\n",
      "dtypes: category(8), float64(2), int64(4)\n",
      "memory usage: 365.5 KB\n"
     ]
    }
   ],
   "source": [
    "df.info()"
   ]
  },
  {
   "cell_type": "code",
   "execution_count": 6,
   "metadata": {},
   "outputs": [
    {
     "data": {
      "text/html": [
       "<div>\n",
       "<style scoped>\n",
       "    .dataframe tbody tr th:only-of-type {\n",
       "        vertical-align: middle;\n",
       "    }\n",
       "\n",
       "    .dataframe tbody tr th {\n",
       "        vertical-align: top;\n",
       "    }\n",
       "\n",
       "    .dataframe thead th {\n",
       "        text-align: right;\n",
       "    }\n",
       "</style>\n",
       "<table border=\"1\" class=\"dataframe\">\n",
       "  <thead>\n",
       "    <tr style=\"text-align: right;\">\n",
       "      <th></th>\n",
       "      <th>co2Emissions</th>\n",
       "      <th>engine_size</th>\n",
       "      <th>manufactured_year</th>\n",
       "      <th>mileage</th>\n",
       "      <th>price</th>\n",
       "      <th>seats</th>\n",
       "    </tr>\n",
       "  </thead>\n",
       "  <tbody>\n",
       "    <tr>\n",
       "      <th>count</th>\n",
       "      <td>5525.000000</td>\n",
       "      <td>5525.000000</td>\n",
       "      <td>5525.000000</td>\n",
       "      <td>5525.000000</td>\n",
       "      <td>5525.000000</td>\n",
       "      <td>5525.000000</td>\n",
       "    </tr>\n",
       "    <tr>\n",
       "      <th>mean</th>\n",
       "      <td>138.045430</td>\n",
       "      <td>1.563864</td>\n",
       "      <td>2018.635113</td>\n",
       "      <td>10705.472398</td>\n",
       "      <td>22198.504615</td>\n",
       "      <td>4.858281</td>\n",
       "    </tr>\n",
       "    <tr>\n",
       "      <th>std</th>\n",
       "      <td>43.151266</td>\n",
       "      <td>0.844347</td>\n",
       "      <td>0.631423</td>\n",
       "      <td>9364.857264</td>\n",
       "      <td>33657.535536</td>\n",
       "      <td>0.556385</td>\n",
       "    </tr>\n",
       "    <tr>\n",
       "      <th>min</th>\n",
       "      <td>85.000000</td>\n",
       "      <td>0.900000</td>\n",
       "      <td>2018.000000</td>\n",
       "      <td>1.000000</td>\n",
       "      <td>1995.000000</td>\n",
       "      <td>2.000000</td>\n",
       "    </tr>\n",
       "    <tr>\n",
       "      <th>25%</th>\n",
       "      <td>114.000000</td>\n",
       "      <td>1.000000</td>\n",
       "      <td>2018.000000</td>\n",
       "      <td>3865.000000</td>\n",
       "      <td>10999.000000</td>\n",
       "      <td>5.000000</td>\n",
       "    </tr>\n",
       "    <tr>\n",
       "      <th>50%</th>\n",
       "      <td>127.000000</td>\n",
       "      <td>1.400000</td>\n",
       "      <td>2019.000000</td>\n",
       "      <td>8823.000000</td>\n",
       "      <td>14890.000000</td>\n",
       "      <td>5.000000</td>\n",
       "    </tr>\n",
       "    <tr>\n",
       "      <th>75%</th>\n",
       "      <td>148.000000</td>\n",
       "      <td>1.600000</td>\n",
       "      <td>2019.000000</td>\n",
       "      <td>14722.000000</td>\n",
       "      <td>21064.000000</td>\n",
       "      <td>5.000000</td>\n",
       "    </tr>\n",
       "    <tr>\n",
       "      <th>max</th>\n",
       "      <td>464.000000</td>\n",
       "      <td>6.750000</td>\n",
       "      <td>2020.000000</td>\n",
       "      <td>145000.000000</td>\n",
       "      <td>918000.000000</td>\n",
       "      <td>7.000000</td>\n",
       "    </tr>\n",
       "  </tbody>\n",
       "</table>\n",
       "</div>"
      ],
      "text/plain": [
       "       co2Emissions  engine_size  manufactured_year        mileage  \\\n",
       "count   5525.000000  5525.000000        5525.000000    5525.000000   \n",
       "mean     138.045430     1.563864        2018.635113   10705.472398   \n",
       "std       43.151266     0.844347           0.631423    9364.857264   \n",
       "min       85.000000     0.900000        2018.000000       1.000000   \n",
       "25%      114.000000     1.000000        2018.000000    3865.000000   \n",
       "50%      127.000000     1.400000        2019.000000    8823.000000   \n",
       "75%      148.000000     1.600000        2019.000000   14722.000000   \n",
       "max      464.000000     6.750000        2020.000000  145000.000000   \n",
       "\n",
       "               price        seats  \n",
       "count    5525.000000  5525.000000  \n",
       "mean    22198.504615     4.858281  \n",
       "std     33657.535536     0.556385  \n",
       "min      1995.000000     2.000000  \n",
       "25%     10999.000000     5.000000  \n",
       "50%     14890.000000     5.000000  \n",
       "75%     21064.000000     5.000000  \n",
       "max    918000.000000     7.000000  "
      ]
     },
     "execution_count": 6,
     "metadata": {},
     "output_type": "execute_result"
    }
   ],
   "source": [
    "df.describe()"
   ]
  },
  {
   "cell_type": "code",
   "execution_count": 7,
   "metadata": {},
   "outputs": [
    {
     "name": "stdout",
     "output_type": "stream",
     "text": [
      "category\n",
      "int64\n",
      "category\n",
      "category\n",
      "float64\n",
      "category\n",
      "category\n",
      "int64\n",
      "int64\n",
      "category\n",
      "float64\n",
      "int64\n",
      "category\n",
      "category\n"
     ]
    }
   ],
   "source": [
    "for column in df:\n",
    "    print(df[column].dtype)"
   ]
  },
  {
   "cell_type": "code",
   "execution_count": 8,
   "metadata": {
    "scrolled": false
   },
   "outputs": [
    {
     "data": {
      "image/png": "[encoded data removed]",
      "text/plain": [
       "<Figure size 432x288 with 1 Axes>"
      ]
     },
     "metadata": {
      "needs_background": "light"
     },
     "output_type": "display_data"
    },
    {
     "data": {
      "image/png": "[encoded data removed]",
      "text/plain": [
       "<Figure size 432x288 with 1 Axes>"
      ]
     },
     "metadata": {
      "needs_background": "light"
     },
     "output_type": "display_data"
    },
    {
     "data": {
      "image/png": "[encoded data removed]",
      "text/plain": [
       "<Figure size 432x288 with 1 Axes>"
      ]
     },
     "metadata": {
      "needs_background": "light"
     },
     "output_type": "display_data"
    },
    {
     "data": {
      "image/png": "[encoded data removed]",
      "text/plain": [
       "<Figure size 432x288 with 1 Axes>"
      ]
     },
     "metadata": {
      "needs_background": "light"
     },
     "output_type": "display_data"
    },
    {
     "data": {
      "image/png": "[encoded data removed]",
      "text/plain": [
       "<Figure size 432x288 with 1 Axes>"
      ]
     },
     "metadata": {
      "needs_background": "light"
     },
     "output_type": "display_data"
    },
    {
     "data": {
      "image/png": "[encoded data removed]",
      "text/plain": [
       "<Figure size 432x288 with 1 Axes>"
      ]
     },
     "metadata": {
      "needs_background": "light"
     },
     "output_type": "display_data"
    }
   ],
   "source": [
    "for column in df:\n",
    "    if (df[column].dtype == 'int64') | (df[column].dtype == 'float64'):\n",
    "        sns.distplot(df[column], hist=True, kde=False, label=column, hist_kws=dict(color='plum', edgecolor=\"k\", linewidth=1))\n",
    "    plt.show()\n",
    "    "
   ]
  },
  {
   "cell_type": "code",
   "execution_count": 10,
   "metadata": {},
   "outputs": [
    {
     "ename": "TypeError",
     "evalue": "data type \"category\" not understood",
     "output_type": "error",
     "traceback": [
      "\u001b[1;31m---------------------------------------------------------------------------\u001b[0m",
      "\u001b[1;31mTypeError\u001b[0m                                 Traceback (most recent call last)",
      "\u001b[1;32m<ipython-input-10-7f788b3ba2cb>\u001b[0m in \u001b[0;36m<module>\u001b[1;34m\u001b[0m\n\u001b[0;32m      1\u001b[0m \u001b[1;32mfor\u001b[0m \u001b[0mcolumn\u001b[0m \u001b[1;32min\u001b[0m \u001b[0mdf\u001b[0m\u001b[1;33m:\u001b[0m\u001b[1;33m\u001b[0m\u001b[1;33m\u001b[0m\u001b[0m\n\u001b[1;32m----> 2\u001b[1;33m     \u001b[1;32mif\u001b[0m \u001b[0mdf\u001b[0m\u001b[1;33m[\u001b[0m\u001b[0mcolumn\u001b[0m\u001b[1;33m]\u001b[0m\u001b[1;33m.\u001b[0m\u001b[0mdtype\u001b[0m \u001b[1;33m==\u001b[0m \u001b[1;34m'category'\u001b[0m\u001b[1;33m:\u001b[0m\u001b[1;33m\u001b[0m\u001b[1;33m\u001b[0m\u001b[0m\n\u001b[0m\u001b[0;32m      3\u001b[0m         \u001b[0msns\u001b[0m\u001b[1;33m.\u001b[0m\u001b[0mcountplot\u001b[0m\u001b[1;33m(\u001b[0m\u001b[0mdf\u001b[0m\u001b[1;33m[\u001b[0m\u001b[0mcolumn\u001b[0m\u001b[1;33m]\u001b[0m\u001b[1;33m)\u001b[0m\u001b[1;33m\u001b[0m\u001b[1;33m\u001b[0m\u001b[0m\n",
      "\u001b[1;31mTypeError\u001b[0m: data type \"category\" not understood"
     ]
    },
    {
     "data": {
      "image/png": "[encoded data removed]",
      "text/plain": [
       "<Figure size 432x288 with 1 Axes>"
      ]
     },
     "metadata": {
      "needs_background": "light"
     },
     "output_type": "display_data"
    }
   ],
   "source": [
    "for column in df:\n",
    "    if df[column].dtype == 'category':\n",
    "        sns.countplot(df[column])"
   ]
  },
  {
   "cell_type": "code",
   "execution_count": 12,
   "metadata": {},
   "outputs": [
    {
     "data": {
      "text/plain": [
       "<matplotlib.axes._subplots.AxesSubplot at 0x2001c0733c8>"
      ]
     },
     "execution_count": 12,
     "metadata": {},
     "output_type": "execute_result"
    },
    {
     "data": {
      "image/png": "[encoded data removed]",
      "text/plain": [
       "<Figure size 432x288 with 1 Axes>"
      ]
     },
     "metadata": {
      "needs_background": "light"
     },
     "output_type": "display_data"
    }
   ],
   "source": [
    "sns.countplot(df['condition'])"
   ]
  },
  {
   "cell_type": "code",
   "execution_count": null,
   "metadata": {},
   "outputs": [],
   "source": []
  }
 ],
 "metadata": {
  "kernelspec": {
   "display_name": "Python 3",
   "language": "python",
   "name": "python3"
  },
  "language_info": {
   "codemirror_mode": {
    "name": "ipython",
    "version": 3
   },
   "file_extension": ".py",
   "mimetype": "text/x-python",
   "name": "python",
   "nbconvert_exporter": "python",
   "pygments_lexer": "ipython3",
   "version": "3.7.3"
  }
 },
 "nbformat": 4,
 "nbformat_minor": 2
}
