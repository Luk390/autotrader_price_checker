{
 "cells": [
  {
   "cell_type": "markdown",
   "metadata": {},
   "source": [
    "For myself\n",
    "\n",
    "* there are a lot of categorical variables in model and trim - \n",
    "    * Do these dummy variable encoding? \n",
    "    * Should I drop them?\n",
    "        * Yes they need dummy encoding. However, let's do that after the EDA\n",
    "* Visuals\n",
    "    * Histogram of price"
   ]
  }
 ],
 "metadata": {
  "kernelspec": {
   "display_name": "Python 3",
   "language": "python",
   "name": "python3"
  },
  "language_info": {
   "codemirror_mode": {
    "name": "ipython",
    "version": 3
   },
   "file_extension": ".py",
   "mimetype": "text/x-python",
   "name": "python",
   "nbconvert_exporter": "python",
   "pygments_lexer": "ipython3",
   "version": "3.7.3"
  }
 },
 "nbformat": 4,
 "nbformat_minor": 2
}
